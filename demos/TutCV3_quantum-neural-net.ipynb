{
 "cells": [
  {
   "cell_type": "markdown",
   "metadata": {},
   "source": [
    "# Tutorial CV3 - Function fitting with a quantum neural network"
   ]
  },
  {
   "cell_type": "markdown",
   "metadata": {},
   "source": [
    "In this tutorial we show how a variational circuit can be used to extrapolate a one-dimensional function when being trained with noisy samples from that function. \n",
    "\n",
    "The variational circuit we use is the continuous-variable quantum neural network model described in Killoran et al. 2018 (arxiv 1806.06871). "
   ]
  },
  {
   "cell_type": "markdown",
   "metadata": {},
   "source": [
    "### Imports"
   ]
  },
  {
   "cell_type": "markdown",
   "metadata": {},
   "source": [
    "This time we will use the Adam optimizer. \n",
    "\n",
    "*Note: For convenience, we use openqml's numpy library for all numpy processing. Strictly speaking, one only needs this library for numpy operations inside the cost function or functions called therein, and can use numpy imported via the usual `import numpy as np` everywhere else.*"
   ]
  },
  {
   "cell_type": "code",
   "execution_count": 1,
   "metadata": {},
   "outputs": [],
   "source": [
    "import openqml as qm\n",
    "from openqml import numpy as np\n",
    "from openqml.optimize import AdamOptimizer"
   ]
  },
  {
   "cell_type": "markdown",
   "metadata": {},
   "source": [
    "The device is again the StrawberryFields simulator, this time with only one quantum mode or \"wire\"."
   ]
  },
  {
   "cell_type": "code",
   "execution_count": 2,
   "metadata": {},
   "outputs": [],
   "source": [
    "dev = qm.device('strawberryfields.fock', wires=1, cutoff_dim=10)"
   ]
  },
  {
   "cell_type": "markdown",
   "metadata": {},
   "source": [
    "### Quantum node\n",
    "\n",
    "A single mode layer of the variational circuit is defined as:"
   ]
  },
  {
   "cell_type": "code",
   "execution_count": 3,
   "metadata": {},
   "outputs": [],
   "source": [
    "def layer(w):\n",
    "\n",
    "    # Matrix multiplication of input layer\n",
    "    qm.Rotation(w[0], [0])\n",
    "    qm.Squeezing(w[1], 0., [0])\n",
    "    qm.Rotation(w[2], [0])\n",
    "\n",
    "    # Bias\n",
    "    qm.Displacement(w[3], 0., [0])\n",
    "\n",
    "    # Element-wise nonlinear transformation\n",
    "    qm.Kerr(w[4], [0])"
   ]
  },
  {
   "cell_type": "markdown",
   "metadata": {},
   "source": [
    "The variational circuit in the quantum node first encodes the input into the displacement of the mode, and then executes the layers. The output is the expectation of the x-quadrature."
   ]
  },
  {
   "cell_type": "code",
   "execution_count": 4,
   "metadata": {},
   "outputs": [],
   "source": [
    "@qm.qnode(dev)\n",
    "def quantum_neural_net(weights, x=None):\n",
    "    \n",
    "    # Encode input x into quantum state\n",
    "    qm.Displacement(x, 0., [0])\n",
    "\n",
    "    # execute \"layers\"\n",
    "    for w in weights:\n",
    "        layer(w)\n",
    "\n",
    "    return qm.expval.X(0)"
   ]
  },
  {
   "cell_type": "markdown",
   "metadata": {},
   "source": [
    "### Objective"
   ]
  },
  {
   "cell_type": "markdown",
   "metadata": {},
   "source": [
    "As an objective we take the square loss between target labels and model predictions."
   ]
  },
  {
   "cell_type": "code",
   "execution_count": 5,
   "metadata": {},
   "outputs": [],
   "source": [
    "def square_loss(labels, predictions):\n",
    "\n",
    "    loss = 0\n",
    "    for l, p in zip(labels, predictions):\n",
    "        loss += (l-p)**2\n",
    "    loss = loss/len(labels)\n",
    "\n",
    "    return loss"
   ]
  },
  {
   "cell_type": "markdown",
   "metadata": {},
   "source": [
    "In the cost function, we compute the outputs from the variational circuit. Function fitting is a regression problem, and we interpret the expectations from the quantum node as predictions (i.e. without applying postprocessing such as thresholding)."
   ]
  },
  {
   "cell_type": "code",
   "execution_count": 6,
   "metadata": {},
   "outputs": [],
   "source": [
    "def cost(weights, features, labels):\n",
    "\n",
    "    preds = [quantum_neural_net(weights, x=x) for x in features]\n",
    "\n",
    "    return square_loss(labels, preds)"
   ]
  },
  {
   "cell_type": "markdown",
   "metadata": {},
   "source": [
    "### Optimization"
   ]
  },
  {
   "cell_type": "markdown",
   "metadata": {},
   "source": [
    "We load noisy data samples of a sine function."
   ]
  },
  {
   "cell_type": "code",
   "execution_count": 7,
   "metadata": {},
   "outputs": [],
   "source": [
    "data = np.loadtxt(\"sine.txt\")\n",
    "X = data[:, 0]\n",
    "Y = data[:, 1]"
   ]
  },
  {
   "cell_type": "markdown",
   "metadata": {},
   "source": [
    "The data looks as follows. \n",
    "\n",
    "*Note: For the next cell to work you need python's matplotlib library.* "
   ]
  },
  {
   "cell_type": "code",
   "execution_count": 8,
   "metadata": {},
   "outputs": [
    {
     "data": {
      "text/plain": [
       "<Figure size 640x480 with 1 Axes>"
      ]
     },
     "metadata": {},
     "output_type": "display_data"
    }
   ],
   "source": [
    "import matplotlib.pyplot as plt\n",
    "\n",
    "plt.figure()\n",
    "plt.scatter(X, Y)\n",
    "plt.xlabel('x', fontsize=18)\n",
    "plt.ylabel('f(x)', fontsize=18)\n",
    "plt.tick_params(axis='both', which='major', labelsize=16)\n",
    "plt.tick_params(axis='both', which='minor', labelsize=16)\n",
    "plt.show()"
   ]
  },
  {
   "cell_type": "markdown",
   "metadata": {},
   "source": [
    "The network's weights, which we call variables here, are initialized with values sampled from a normal distribution. We use 4 layers, although performance has been found to plateau at around 6 layers."
   ]
  },
  {
   "cell_type": "code",
   "execution_count": 9,
   "metadata": {},
   "outputs": [
    {
     "data": {
      "text/plain": [
       "array([[-0.03482101, -0.05767631, -0.04485433, -0.06611208, -0.02813008,\n",
       "        -0.01256533,  0.03749971],\n",
       "       [ 0.11739055, -0.04323136,  0.07451296,  0.07704561, -0.05992899,\n",
       "        -0.02748394, -0.06371672],\n",
       "       [-0.00261234,  0.03510685,  0.03453766, -0.08888558, -0.05174211,\n",
       "        -0.03829791,  0.00115854],\n",
       "       [-0.04261771,  0.0107052 , -0.12688993,  0.00335811,  0.046572  ,\n",
       "         0.03462589,  0.07121722]])"
      ]
     },
     "execution_count": 9,
     "metadata": {},
     "output_type": "execute_result"
    }
   ],
   "source": [
    "num_layers = 4\n",
    "vars_init = 0.05*np.random.randn(num_layers, 7)\n",
    "\n",
    "vars_init"
   ]
  },
  {
   "cell_type": "markdown",
   "metadata": {},
   "source": [
    "We choose the Adam optimizer and update the weights for 10 steps."
   ]
  },
  {
   "cell_type": "code",
   "execution_count": 10,
   "metadata": {},
   "outputs": [
    {
     "name": "stdout",
     "output_type": "stream",
     "text": [
      "Iter:     1 | Cost: 0.3613590 | Mean of abs vars: 0.0478436\n",
      "Iter:     2 | Cost: 0.3480233 | Mean of abs vars: 0.0480128\n",
      "Iter:     3 | Cost: 0.3366658 | Mean of abs vars: 0.0481594\n",
      "Iter:     4 | Cost: 0.3264126 | Mean of abs vars: 0.0482944\n",
      "Iter:     5 | Cost: 0.3168581 | Mean of abs vars: 0.0484228\n",
      "Iter:     6 | Cost: 0.3077773 | Mean of abs vars: 0.0485474\n",
      "Iter:     7 | Cost: 0.2990315 | Mean of abs vars: 0.0486699\n",
      "Iter:     8 | Cost: 0.2905294 | Mean of abs vars: 0.0487915\n",
      "Iter:     9 | Cost: 0.2822090 | Mean of abs vars: 0.0489129\n",
      "Iter:    10 | Cost: 0.2740273 | Mean of abs vars: 0.0490349\n"
     ]
    }
   ],
   "source": [
    "o = AdamOptimizer(0.005, beta1=0.9, beta2=0.999)\n",
    "\n",
    "vars = vars_init\n",
    "for it in range(10):\n",
    "    vars = o.step(lambda v: cost(v, X, Y), vars)\n",
    "    \n",
    "    print(\"Iter: {:5d} | Cost: {:0.7f} | Mean of abs vars: {:0.7f}\"\n",
    "          .format(it+1, cost(vars, X, Y), np.mean(np.abs(vars))))"
   ]
  },
  {
   "cell_type": "markdown",
   "metadata": {},
   "source": [
    "We can continue training for another 50 steps (although this takes some time)."
   ]
  },
  {
   "cell_type": "code",
   "execution_count": 11,
   "metadata": {},
   "outputs": [
    {
     "name": "stdout",
     "output_type": "stream",
     "text": [
      "Iter:    11 | Cost: 0.2659547 | Mean of abs vars: 0.0491577\n",
      "Iter:    12 | Cost: 0.2579718 | Mean of abs vars: 0.0492818\n",
      "Iter:    13 | Cost: 0.2500669 | Mean of abs vars: 0.0494073\n",
      "Iter:    14 | Cost: 0.2422346 | Mean of abs vars: 0.0495344\n",
      "Iter:    15 | Cost: 0.2344747 | Mean of abs vars: 0.0496632\n",
      "Iter:    16 | Cost: 0.2267917 | Mean of abs vars: 0.0497938\n",
      "Iter:    17 | Cost: 0.2191939 | Mean of abs vars: 0.0499261\n",
      "Iter:    18 | Cost: 0.2116926 | Mean of abs vars: 0.0500601\n",
      "Iter:    19 | Cost: 0.2043026 | Mean of abs vars: 0.0501957\n",
      "Iter:    20 | Cost: 0.1970406 | Mean of abs vars: 0.0503329\n",
      "Iter:    21 | Cost: 0.1899257 | Mean of abs vars: 0.0504715\n",
      "Iter:    22 | Cost: 0.1829784 | Mean of abs vars: 0.0506113\n",
      "Iter:    23 | Cost: 0.1762202 | Mean of abs vars: 0.0507522\n",
      "Iter:    24 | Cost: 0.1696736 | Mean of abs vars: 0.0508939\n",
      "Iter:    25 | Cost: 0.1633609 | Mean of abs vars: 0.0510360\n",
      "Iter:    26 | Cost: 0.1573042 | Mean of abs vars: 0.0511785\n",
      "Iter:    27 | Cost: 0.1515243 | Mean of abs vars: 0.0513208\n",
      "Iter:    28 | Cost: 0.1460410 | Mean of abs vars: 0.0514628\n",
      "Iter:    29 | Cost: 0.1408717 | Mean of abs vars: 0.0516039\n",
      "Iter:    30 | Cost: 0.1360315 | Mean of abs vars: 0.0517440\n",
      "Iter:    31 | Cost: 0.1315324 | Mean of abs vars: 0.0518825\n",
      "Iter:    32 | Cost: 0.1273829 | Mean of abs vars: 0.0520191\n",
      "Iter:    33 | Cost: 0.1235882 | Mean of abs vars: 0.0521533\n",
      "Iter:    34 | Cost: 0.1201490 | Mean of abs vars: 0.0522848\n",
      "Iter:    35 | Cost: 0.1170624 | Mean of abs vars: 0.0524131\n",
      "Iter:    36 | Cost: 0.1143212 | Mean of abs vars: 0.0525378\n",
      "Iter:    37 | Cost: 0.1119142 | Mean of abs vars: 0.0526585\n",
      "Iter:    38 | Cost: 0.1098264 | Mean of abs vars: 0.0527748\n",
      "Iter:    39 | Cost: 0.1080396 | Mean of abs vars: 0.0529002\n",
      "Iter:    40 | Cost: 0.1065324 | Mean of abs vars: 0.0530507\n",
      "Iter:    41 | Cost: 0.1052809 | Mean of abs vars: 0.0531928\n",
      "Iter:    42 | Cost: 0.1042594 | Mean of abs vars: 0.0533262\n",
      "Iter:    43 | Cost: 0.1034410 | Mean of abs vars: 0.0534506\n",
      "Iter:    44 | Cost: 0.1027979 | Mean of abs vars: 0.0535656\n",
      "Iter:    45 | Cost: 0.1023026 | Mean of abs vars: 0.0536710\n",
      "Iter:    46 | Cost: 0.1019280 | Mean of abs vars: 0.0537667\n",
      "Iter:    47 | Cost: 0.1016484 | Mean of abs vars: 0.0538525\n",
      "Iter:    48 | Cost: 0.1014396 | Mean of abs vars: 0.0539284\n",
      "Iter:    49 | Cost: 0.1012796 | Mean of abs vars: 0.0539943\n",
      "Iter:    50 | Cost: 0.1011486 | Mean of abs vars: 0.0540505\n",
      "Iter:    51 | Cost: 0.1010297 | Mean of abs vars: 0.0540971\n",
      "Iter:    52 | Cost: 0.1009085 | Mean of abs vars: 0.0541342\n",
      "Iter:    53 | Cost: 0.1007735 | Mean of abs vars: 0.0541622\n",
      "Iter:    54 | Cost: 0.1006158 | Mean of abs vars: 0.0541813\n",
      "Iter:    55 | Cost: 0.1004293 | Mean of abs vars: 0.0541920\n",
      "Iter:    56 | Cost: 0.1002100 | Mean of abs vars: 0.0541947\n",
      "Iter:    57 | Cost: 0.0999560 | Mean of abs vars: 0.0541898\n",
      "Iter:    58 | Cost: 0.0996675 | Mean of abs vars: 0.0541779\n",
      "Iter:    59 | Cost: 0.0993459 | Mean of abs vars: 0.0541594\n",
      "Iter:    60 | Cost: 0.0989939 | Mean of abs vars: 0.0541349\n"
     ]
    }
   ],
   "source": [
    "for it in range(40):\n",
    "    vars = o.step(lambda v: cost(v, X, Y), vars)\n",
    "    \n",
    "    print(\"Iter: {:5d} | Cost: {:0.7f} | Mean of abs vars: {:0.7f}\"\n",
    "          .format(it+11, cost(vars, X, Y), np.mean(np.abs(vars))))"
   ]
  },
  {
   "cell_type": "markdown",
   "metadata": {},
   "source": [
    "Finally, we collect the predictions of the trained model for 50 values in $[-1,1]$..."
   ]
  },
  {
   "cell_type": "code",
   "execution_count": 17,
   "metadata": {},
   "outputs": [],
   "source": [
    "x_pred = np.linspace(-1, 1, 50)\n",
    "predictions = [quantum_neural_net(vars, x=x_) for x_ in x_pred]"
   ]
  },
  {
   "cell_type": "markdown",
   "metadata": {},
   "source": [
    "...and plot the shape of the function that the model has \"learned\" from the noisy data (green dots)."
   ]
  },
  {
   "cell_type": "code",
   "execution_count": 22,
   "metadata": {},
   "outputs": [
    {
     "data": {
      "image/png": "[encoded data removed]",
      "text/plain": [
       "<Figure size 432x288 with 1 Axes>"
      ]
     },
     "metadata": {},
     "output_type": "display_data"
    }
   ],
   "source": [
    "plt.figure()\n",
    "plt.scatter(X, Y)\n",
    "plt.scatter(x_pred, predictions, color='green')\n",
    "plt.xlabel('x')\n",
    "plt.ylabel('f(x)')\n",
    "plt.tick_params(axis='both', which='major')\n",
    "plt.tick_params(axis='both', which='minor')\n",
    "plt.show()"
   ]
  },
  {
   "cell_type": "markdown",
   "metadata": {},
   "source": [
    "The model has learned to smoothen the noisy data.\n",
    "\n",
    "In fact, we can use openqml to look at typical functions that the model produces without being trained at all. The shape of these functions varies significantly with the variance hyperparameter for the weight initialization. \n",
    "\n",
    "Setting this hyperparameter to a small value produces almost linear functions, since all quantum gates in the variational circuit are almost performing an identity. Larger values produces smoothly oscillating functions with a period that depends on the number of layers used (the more layers the smaller the period)."
   ]
  },
  {
   "cell_type": "code",
   "execution_count": 29,
   "metadata": {},
   "outputs": [
    {
     "data": {
      "image/png": "[encoded data removed]",
      "text/plain": [
       "<Figure size 432x288 with 1 Axes>"
      ]
     },
     "metadata": {},
     "output_type": "display_data"
    }
   ],
   "source": [
    "variance = 1.\n",
    "\n",
    "plt.figure()\n",
    "x_pred = np.linspace(-2, 2, 50)\n",
    "for i in range(7):\n",
    "    rnd_vars = variance*np.random.randn(num_layers, 7)\n",
    "    predictions = [quantum_neural_net(rnd_vars, x=x_) for x_ in x_pred]\n",
    "    plt.plot(x_pred, predictions, color='black')\n",
    "plt.xlabel('x')\n",
    "plt.ylabel('f(x)')\n",
    "plt.tick_params(axis='both', which='major')\n",
    "plt.tick_params(axis='both', which='minor')\n",
    "plt.show()"
   ]
  }
 ],
 "metadata": {
  "kernelspec": {
   "display_name": "Python 3",
   "language": "python",
   "name": "python3"
  },
  "language_info": {
   "codemirror_mode": {
    "name": "ipython",
    "version": 3
   },
   "file_extension": ".py",
   "mimetype": "text/x-python",
   "name": "python",
   "nbconvert_exporter": "python",
   "pygments_lexer": "ipython3",
   "version": "3.6.6"
  }
 },
 "nbformat": 4,
 "nbformat_minor": 2
}
