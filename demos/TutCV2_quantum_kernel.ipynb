{
 "cells": [
  {
   "cell_type": "markdown",
   "metadata": {},
   "source": [
    "# Tutorial CV2 - Classification with a squeezing feature map"
   ]
  },
  {
   "cell_type": "markdown",
   "metadata": {},
   "source": [
    "In this tutorial we implement the squeezing feature map together with the \"implicit\" linear classifier inspired by Schuld and Killoran (arXiv:1803.07128). "
   ]
  },
  {
   "cell_type": "markdown",
   "metadata": {},
   "source": [
    "### Imports"
   ]
  },
  {
   "cell_type": "markdown",
   "metadata": {},
   "source": [
    "We import openqml, openqml's numpy as well as an optimizer. \n",
    "\n",
    "*Note: For convenience, we use openqml's numpy library for all numpy processing. Strictly speaking, one only needs this library for numpy operations inside the cost function or functions called therein, and can use numpy imported via the usual `import numpy as np` everywhere else.*"
   ]
  },
  {
   "cell_type": "code",
   "execution_count": 1,
   "metadata": {},
   "outputs": [],
   "source": [
    "import openqml as qm\n",
    "from openqml import numpy as np\n",
    "from openqml.optimize import GradientDescentOptimizer"
   ]
  },
  {
   "cell_type": "markdown",
   "metadata": {},
   "source": [
    "The device is the StrawberryFields simulator with two quantum modes or \"wires\"."
   ]
  },
  {
   "cell_type": "code",
   "execution_count": 2,
   "metadata": {},
   "outputs": [],
   "source": [
    "dev = qm.device('strawberryfields.fock', wires=2, cutoff_dim=10)"
   ]
  },
  {
   "cell_type": "markdown",
   "metadata": {},
   "source": [
    "### Quantum node\n",
    "\n",
    "The variational circuit which defines the quantum node consists of two parts. First, the input is \"encoded into Hilbert space\" by a squeezing feature map."
   ]
  },
  {
   "cell_type": "code",
   "execution_count": 3,
   "metadata": {},
   "outputs": [],
   "source": [
    "def featuremap(x):\n",
    "\n",
    "    qm.Squeezing(1.5, x[0], [0])\n",
    "    qm.Squeezing(1.5, x[1], [0])"
   ]
  },
  {
   "cell_type": "markdown",
   "metadata": {},
   "source": [
    "Next, a layered circuit serves as a trainable linear classifier in Hilbert space. A single layer is defined as:"
   ]
  },
  {
   "cell_type": "code",
   "execution_count": 4,
   "metadata": {},
   "outputs": [],
   "source": [
    "def layer(w):\n",
    "\n",
    "    qm.Beamsplitter(w[0], w[1], [0, 1])\n",
    "\n",
    "    # linear gates in quadrature\n",
    "    qm.Displacement(w[2], 0., [0])\n",
    "    qm.Displacement(w[3], 0., [1])\n",
    "\n",
    "    # quadratic gates in quadrature\n",
    "    qm.QuadraticPhase(w[4], [0])\n",
    "    qm.QuadraticPhase(w[5], [1])\n",
    "\n",
    "    # cubic gates in quadrature\n",
    "    qm.CubicPhase(w[6], [0])\n",
    "    qm.CubicPhase(w[7], [1])\n"
   ]
  },
  {
   "cell_type": "markdown",
   "metadata": {},
   "source": [
    "The variational circuit in the quantum node first encodes the input via the feature map and then executes the layers. The output is the expectation of the photon number in the first mode."
   ]
  },
  {
   "cell_type": "code",
   "execution_count": 5,
   "metadata": {},
   "outputs": [],
   "source": [
    "@qm.qnode(dev)\n",
    "def qclassifier(weights, x=None):\n",
    "\n",
    "    # execute feature map\n",
    "    featuremap(x)\n",
    "\n",
    "    # execute linear classifier\n",
    "    for w in weights:\n",
    "        layer(w)\n",
    "\n",
    "    return qm.expval.PhotonNumber(0)"
   ]
  },
  {
   "cell_type": "markdown",
   "metadata": {},
   "source": [
    "### Objective"
   ]
  },
  {
   "cell_type": "markdown",
   "metadata": {},
   "source": [
    "As an objective we take the square loss between target labels and model predictions. To check the quality of the classifier, we also define the accuracy, or the share of correctly classified samples."
   ]
  },
  {
   "cell_type": "code",
   "execution_count": 6,
   "metadata": {},
   "outputs": [],
   "source": [
    "def square_loss(labels, predictions):\n",
    "    loss = 0\n",
    "    for l, p in zip(labels, predictions):\n",
    "        loss += (l-p)**2\n",
    "    loss = loss/len(labels)\n",
    "\n",
    "    return loss\n",
    "\n",
    "\n",
    "def accuracy(labels, predictions):\n",
    "    loss = 0\n",
    "    for l, p in zip(labels, predictions):\n",
    "        if abs(l-p) < 1e-5:\n",
    "            loss += 1\n",
    "    loss = loss/len(labels)\n",
    "\n",
    "    return loss"
   ]
  },
  {
   "cell_type": "markdown",
   "metadata": {},
   "source": [
    "In the cost function we compute the outputs from the variational circuit and compute the square loss."
   ]
  },
  {
   "cell_type": "code",
   "execution_count": 7,
   "metadata": {},
   "outputs": [],
   "source": [
    "def cost(weights, X, Y):\n",
    "\n",
    "    outpts = [qclassifier(weights, x=x) for x in X]\n",
    "\n",
    "    loss = square_loss(Y, outpts)\n",
    "\n",
    "    return loss\n"
   ]
  },
  {
   "cell_type": "markdown",
   "metadata": {},
   "source": [
    "### Optimization"
   ]
  },
  {
   "cell_type": "markdown",
   "metadata": {},
   "source": [
    "We load data samples from the moons data set and split it into a training and validation set."
   ]
  },
  {
   "cell_type": "code",
   "execution_count": 8,
   "metadata": {},
   "outputs": [],
   "source": [
    "# load function data\n",
    "data = np.loadtxt(\"moons.txt\")\n",
    "X = data[:, 0:2]\n",
    "Y = data[:, -1]\n",
    "\n",
    "# split into training and validation set\n",
    "num_data = len(Y)\n",
    "num_train = int(0.5*num_data)\n",
    "index = np.random.permutation(range(num_data))\n",
    "X_train = X[index[: num_train]]\n",
    "Y_train = Y[index[: num_train]]\n",
    "X_val = X[index[num_train: ]]\n",
    "Y_val = Y[index[num_train: ]]"
   ]
  },
  {
   "cell_type": "markdown",
   "metadata": {},
   "source": [
    "Let's plot the data.\n",
    "\n",
    "*Note: For the next cell to work you need python's matplotlib library.* "
   ]
  },
  {
   "cell_type": "code",
   "execution_count": 9,
   "metadata": {},
   "outputs": [
    {
     "data": {
      "text/plain": [
       "<Figure size 640x480 with 1 Axes>"
      ]
     },
     "metadata": {},
     "output_type": "display_data"
    }
   ],
   "source": [
    "import matplotlib.pyplot as plt\n",
    "\n",
    "plt.figure()\n",
    "plt.scatter(X_train[:,0][Y_train==0], X_train[:,1][Y_train==0], marker='o', color='green', label='train 0')\n",
    "plt.scatter(X_val[:,0][Y_val==0], X_val[:,1][Y_val==0], marker='^', color='green', label='validation 0')\n",
    "plt.scatter(X_train[:,0][Y_train==1], X_train[:,1][Y_train==1], marker='^', color='purple', label='train 1')\n",
    "plt.scatter(X_val[:,0][Y_val==1], X_val[:,1][Y_val==1], marker='o', color='purple', label='validation 1')\n",
    "plt.xlabel('x1')\n",
    "plt.ylabel('x2')\n",
    "\n",
    "plt.legend()\n",
    "plt.show()"
   ]
  },
  {
   "cell_type": "markdown",
   "metadata": {},
   "source": [
    "The trainable circuit parameters (called variables in PennyLane), are initialized with values sampled from a normal distribution. We use 4 layers."
   ]
  },
  {
   "cell_type": "code",
   "execution_count": 10,
   "metadata": {},
   "outputs": [
    {
     "data": {
      "text/plain": [
       "array([[-0.00780016, -0.01318971, -0.05528023, -0.00926701,  0.00967461,\n",
       "         0.12300161, -0.02517163, -0.00559375],\n",
       "       [ 0.11062958, -0.00276368, -0.04096286,  0.00378923,  0.02925287,\n",
       "         0.02757426, -0.05036169,  0.0263325 ],\n",
       "       [-0.05517909, -0.0095554 ,  0.00525995, -0.02626185,  0.10255129,\n",
       "        -0.03813769, -0.0121489 ,  0.00324524],\n",
       "       [-0.00085168,  0.09182423, -0.02822648,  0.04603324,  0.01946975,\n",
       "         0.04737105, -0.05361193, -0.01559399]])"
      ]
     },
     "execution_count": 10,
     "metadata": {},
     "output_type": "execute_result"
    }
   ],
   "source": [
    "# initialize weights\n",
    "num_layers = 4\n",
    "vars_init = 0.05*np.random.randn(num_layers, 8)\n",
    "\n",
    "vars_init"
   ]
  },
  {
   "cell_type": "markdown",
   "metadata": {},
   "source": [
    "We choose the Adam optimizer and update the weights for 50 steps with a batch size of 5. In every step the accuracy is computed for the entire training set."
   ]
  },
  {
   "cell_type": "code",
   "execution_count": 11,
   "metadata": {},
   "outputs": [
    {
     "name": "stdout",
     "output_type": "stream",
     "text": [
      "Iter:     1 | Cost: 0.2109074 | Acc train: 0.5200000 | Acc validation: 0.6200000 \n",
      "Iter:     2 | Cost: 0.2387016 | Acc train: 0.5200000 | Acc validation: 0.6200000 \n",
      "Iter:     3 | Cost: 0.2817764 | Acc train: 0.5200000 | Acc validation: 0.6200000 \n",
      "Iter:     4 | Cost: 0.2949667 | Acc train: 0.5200000 | Acc validation: 0.6200000 \n",
      "Iter:     5 | Cost: 0.2803269 | Acc train: 0.5200000 | Acc validation: 0.6200000 \n",
      "Iter:     6 | Cost: 0.3037542 | Acc train: 0.5200000 | Acc validation: 0.6200000 \n",
      "Iter:     7 | Cost: 0.3655550 | Acc train: 0.5200000 | Acc validation: 0.6200000 \n",
      "Iter:     8 | Cost: 0.3101475 | Acc train: 0.5200000 | Acc validation: 0.6200000 \n",
      "Iter:     9 | Cost: 0.2318217 | Acc train: 0.5200000 | Acc validation: 0.6200000 \n",
      "Iter:    10 | Cost: 0.1770130 | Acc train: 0.5200000 | Acc validation: 0.6200000 \n",
      "Iter:    11 | Cost: 0.2350665 | Acc train: 0.5200000 | Acc validation: 0.6200000 \n",
      "Iter:    12 | Cost: 0.2889203 | Acc train: 0.5200000 | Acc validation: 0.6200000 \n",
      "Iter:    13 | Cost: 0.2115410 | Acc train: 0.5200000 | Acc validation: 0.6200000 \n",
      "Iter:    14 | Cost: 0.2317330 | Acc train: 0.5200000 | Acc validation: 0.6200000 \n",
      "Iter:    15 | Cost: 0.2685794 | Acc train: 0.5200000 | Acc validation: 0.6200000 \n",
      "Iter:    16 | Cost: 0.2074138 | Acc train: 0.5200000 | Acc validation: 0.6200000 \n",
      "Iter:    17 | Cost: 0.2342268 | Acc train: 0.5200000 | Acc validation: 0.6200000 \n",
      "Iter:    18 | Cost: 0.3234120 | Acc train: 0.5200000 | Acc validation: 0.6200000 \n",
      "Iter:    19 | Cost: 0.1627600 | Acc train: 0.5200000 | Acc validation: 0.6200000 \n",
      "Iter:    20 | Cost: 0.2797280 | Acc train: 0.5200000 | Acc validation: 0.6200000 \n",
      "Iter:    21 | Cost: 0.2839054 | Acc train: 0.5200000 | Acc validation: 0.6200000 \n",
      "Iter:    22 | Cost: 0.2989161 | Acc train: 0.5200000 | Acc validation: 0.6200000 \n",
      "Iter:    23 | Cost: 0.2861933 | Acc train: 0.5200000 | Acc validation: 0.6200000 \n",
      "Iter:    24 | Cost: 0.2311454 | Acc train: 0.5200000 | Acc validation: 0.6200000 \n",
      "Iter:    25 | Cost: 0.2984466 | Acc train: 0.5200000 | Acc validation: 0.6200000 \n",
      "Iter:    26 | Cost: 0.2574613 | Acc train: 0.5200000 | Acc validation: 0.6200000 \n",
      "Iter:    27 | Cost: 0.2627394 | Acc train: 0.5200000 | Acc validation: 0.6200000 \n",
      "Iter:    28 | Cost: 0.1990287 | Acc train: 0.5200000 | Acc validation: 0.6200000 \n",
      "Iter:    29 | Cost: 0.1426422 | Acc train: 0.5200000 | Acc validation: 0.6200000 \n",
      "Iter:    30 | Cost: 0.3170344 | Acc train: 0.5200000 | Acc validation: 0.6200000 \n",
      "Iter:    31 | Cost: 0.2310662 | Acc train: 0.5200000 | Acc validation: 0.6200000 \n",
      "Iter:    32 | Cost: 0.1737352 | Acc train: 0.5200000 | Acc validation: 0.6200000 \n",
      "Iter:    33 | Cost: 0.3512313 | Acc train: 0.5200000 | Acc validation: 0.6200000 \n",
      "Iter:    34 | Cost: 0.2376604 | Acc train: 0.5200000 | Acc validation: 0.6200000 \n",
      "Iter:    35 | Cost: 0.2135939 | Acc train: 0.5200000 | Acc validation: 0.6200000 \n",
      "Iter:    36 | Cost: 0.1541114 | Acc train: 0.5200000 | Acc validation: 0.6200000 \n",
      "Iter:    37 | Cost: 0.3502659 | Acc train: 0.5200000 | Acc validation: 0.6200000 \n",
      "Iter:    38 | Cost: 0.2560774 | Acc train: 0.5200000 | Acc validation: 0.6200000 \n",
      "Iter:    39 | Cost: 0.1923265 | Acc train: 0.5200000 | Acc validation: 0.6200000 \n",
      "Iter:    40 | Cost: 0.2372100 | Acc train: 0.5200000 | Acc validation: 0.6200000 \n",
      "Iter:    41 | Cost: 0.2343026 | Acc train: 0.5200000 | Acc validation: 0.6200000 \n",
      "Iter:    42 | Cost: 0.3615974 | Acc train: 0.5200000 | Acc validation: 0.6200000 \n",
      "Iter:    43 | Cost: 0.4459387 | Acc train: 0.5200000 | Acc validation: 0.6200000 \n",
      "Iter:    44 | Cost: 0.1479332 | Acc train: 0.5200000 | Acc validation: 0.6200000 \n",
      "Iter:    45 | Cost: 0.2375685 | Acc train: 0.5200000 | Acc validation: 0.6200000 \n",
      "Iter:    46 | Cost: 0.1897477 | Acc train: 0.5200000 | Acc validation: 0.6200000 \n",
      "Iter:    47 | Cost: 0.2635259 | Acc train: 0.5200000 | Acc validation: 0.6200000 \n",
      "Iter:    48 | Cost: 0.2530429 | Acc train: 0.5200000 | Acc validation: 0.6200000 \n",
      "Iter:    49 | Cost: 0.1855287 | Acc train: 0.5200000 | Acc validation: 0.6200000 \n",
      "Iter:    50 | Cost: 0.2477282 | Acc train: 0.5200000 | Acc validation: 0.6200000 \n"
     ]
    }
   ],
   "source": [
    "o = GradientDescentOptimizer(0.0001)\n",
    "\n",
    "\n",
    "batch_size = 5\n",
    "vars = vars_init\n",
    "for it in range(50):\n",
    "\n",
    "    # select minibatch of training samples\n",
    "    batch_index = np.random.randint(0, num_train, (batch_size,))\n",
    "    X_train_batch = X_train[batch_index]\n",
    "    Y_train_batch = Y_train[batch_index]\n",
    "\n",
    "    vars = o.step(lambda v: cost(v, X_train_batch, Y_train_batch), vars)\n",
    "\n",
    "    # Compute predictions on train and validation set\n",
    "    pred_train = [np.round(qclassifier(vars, x=x_)) for x_ in X_train]\n",
    "    pred_val = [np.round(qclassifier(vars, x=x_)) for x_ in X_val]\n",
    "    acc_train = accuracy(Y_train, pred_train)\n",
    "    acc_val = accuracy(Y_val, pred_val)\n",
    "\n",
    "    print(\"Iter: {:5d} | Cost: {:0.7f} | Acc train: {:0.7f} | Acc validation: {:0.7f} \"\n",
    "          \"\".format(it+1, cost(vars, X_train_batch, Y_train_batch), acc_train, acc_val))"
   ]
  },
  {
   "cell_type": "markdown",
   "metadata": {},
   "source": [
    "With the last predictions we can plot the classification of the model for the data."
   ]
  },
  {
   "cell_type": "code",
   "execution_count": 12,
   "metadata": {},
   "outputs": [
    {
     "data": {
      "image/png": "[encoded data removed]",
      "text/plain": [
       "<Figure size 432x288 with 1 Axes>"
      ]
     },
     "metadata": {},
     "output_type": "display_data"
    }
   ],
   "source": [
    "plt.figure()\n",
    "plt.scatter(X_train[:,0][pred_train==0], X_train[:,1][pred_train==0], marker='o', color='green', label='train 0')\n",
    "plt.scatter(X_val[:,0][pred_val==0], X_val[:,1][pred_val==0], marker='^', color='green', label='validation 0')\n",
    "plt.scatter(X_train[:,0][pred_train==1], X_train[:,1][pred_train==1], marker='^', color='purple', label='train 1')\n",
    "plt.scatter(X_val[:,0][pred_val==1], X_val[:,1][pred_val==1], marker='o', color='purple', label='validation 1')\n",
    "plt.xlabel('x1')\n",
    "plt.ylabel('x2')\n",
    "\n",
    "plt.legend()\n",
    "plt.show()"
   ]
  }
 ],
 "metadata": {
  "kernelspec": {
   "display_name": "Python 3",
   "language": "python",
   "name": "python3"
  },
  "language_info": {
   "codemirror_mode": {
    "name": "ipython",
    "version": 3
   },
   "file_extension": ".py",
   "mimetype": "text/x-python",
   "name": "python",
   "nbconvert_exporter": "python",
   "pygments_lexer": "ipython3",
   "version": "3.6.6"
  }
 },
 "nbformat": 4,
 "nbformat_minor": 2
}
