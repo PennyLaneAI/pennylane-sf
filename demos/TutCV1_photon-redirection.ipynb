{
 "cells": [
  {
   "cell_type": "markdown",
   "metadata": {},
   "source": [
    "# Tutorial CV1 - Photon redirection"
   ]
  },
  {
   "cell_type": "markdown",
   "metadata": {},
   "source": [
    "This tutorial runs PennyLane's \"hello world\" example of continuous-variable quantum computation with the StrawberryFields plugin. Starting with a photon in Mode 1, the goal is to optimize a beam splitter to redirect the photon to Mode 2. \n",
    "\n",
    "We compare the gradient descent optimizer without and with momentum for this task."
   ]
  },
  {
   "cell_type": "markdown",
   "metadata": {},
   "source": [
    "### Imports"
   ]
  },
  {
   "cell_type": "markdown",
   "metadata": {},
   "source": [
    "First we need to import openqml, as well as openqml's version of numpy. This allows us to automatically compute gradients for functions that manipulate numpy arrays, including quantum functions."
   ]
  },
  {
   "cell_type": "code",
   "execution_count": 1,
   "metadata": {},
   "outputs": [],
   "source": [
    "import openqml as qm\n",
    "import numpy as np\n",
    "from openqml.optimize import GradientDescentOptimizer, MomentumOptimizer"
   ]
  },
  {
   "cell_type": "markdown",
   "metadata": {},
   "source": [
    "Next, create a \"device\" to run the quantum node. We use StrawberryFields to simulate a photonic quantum processor with two quantum modes."
   ]
  },
  {
   "cell_type": "code",
   "execution_count": 2,
   "metadata": {},
   "outputs": [],
   "source": [
    "dev = qm.device('strawberryfields.fock', wires=2, cutoff_dim=10)"
   ]
  },
  {
   "cell_type": "markdown",
   "metadata": {},
   "source": [
    "### Quantum node\n",
    "\n",
    "We define a quantum circuit which starts with one photon into the first mode and sends both modes through a beam splitter. \n",
    " \n",
    "*Note: The `qm.qnode(dev)` decorator does the same as importing the `QNode` class via `from openqml.qnode import QNode` and creating a qnode `circuit = QNode(circuit, dev)`.*"
   ]
  },
  {
   "cell_type": "code",
   "execution_count": 3,
   "metadata": {},
   "outputs": [],
   "source": [
    "@qm.qnode(dev)\n",
    "def circuit(vars):\n",
    "\n",
    "    qm.FockState(1, [0])\n",
    "    qm.Beamsplitter(vars[0], vars[1], [0, 1])\n",
    "\n",
    "    return qm.expval.PhotonNumber(0)"
   ]
  },
  {
   "cell_type": "markdown",
   "metadata": {},
   "source": [
    "This function uses openqml to run the following quantum circuit:"
   ]
  },
  {
   "cell_type": "markdown",
   "metadata": {},
   "source": [
    "<img src=\"figures/redirection_circuit.png\">"
   ]
  },
  {
   "cell_type": "markdown",
   "metadata": {},
   "source": [
    "Depending on the variable $v_1$, the transmission parameter of the beam splitter, the photon remains in the first mode (for $v_1 = n \\pi$ with integer $n$), gets redirected to the second mode (for $v_2 = n\\pi / 2$) or is in a superposition of being in both modes. The phase parameter $v_2$ does not have any influence on the result, so we expect it to have a zero gradient and not to get updated at all."
   ]
  },
  {
   "cell_type": "markdown",
   "metadata": {},
   "source": [
    "### Objective"
   ]
  },
  {
   "cell_type": "markdown",
   "metadata": {},
   "source": [
    "Next, we define a cost that quantifies whether the redirection is successful. Since we want to maximize the expectation of the photon number in the second mode, we can minize expectation of the photon number in the first mode. (Alternatively, we could also minimize the negative of the photon number in the second mode.)"
   ]
  },
  {
   "cell_type": "code",
   "execution_count": 4,
   "metadata": {},
   "outputs": [],
   "source": [
    "def objective(vars):\n",
    "    return circuit(vars)"
   ]
  },
  {
   "cell_type": "markdown",
   "metadata": {},
   "source": [
    "This objective has the following optimization landscape. *Note: To run the following cell you need the matplotlib library.*"
   ]
  },
  {
   "cell_type": "code",
   "execution_count": 6,
   "metadata": {},
   "outputs": [
    {
     "data": {
      "image/png": "[encoded data removed]",
      "text/plain": [
       "<Figure size 432x288 with 1 Axes>"
      ]
     },
     "metadata": {},
     "output_type": "display_data"
    }
   ],
   "source": [
    "import matplotlib.pyplot as plt\n",
    "from mpl_toolkits.mplot3d import Axes3D\n",
    "from matplotlib import cm\n",
    "from matplotlib.ticker import MaxNLocator\n",
    "\n",
    "fig = plt.figure(figsize = (6, 4))\n",
    "ax = fig.gca(projection='3d')\n",
    "\n",
    "X = np.arange(-3.1, 1.6, 0.2)\n",
    "Y = np.arange(-1., 1.25, 0.25)\n",
    "\n",
    "xx, yy = np.meshgrid(X, Y)\n",
    "Z = np.array([[objective([x, y]) for x in X] for y in Y]).reshape(len(Y), len(X))\n",
    "surf = ax.plot_surface(xx, yy, Z, cmap=cm.coolwarm, antialiased=False)\n",
    "\n",
    "ax.set_xlabel(\"v1\")\n",
    "ax.set_ylabel(\"v2\")\n",
    "ax.zaxis.set_major_locator(MaxNLocator(nbins = 5, prune = 'lower'))\n",
    "ax.yaxis.set_major_locator(MaxNLocator(nbins = 4, prune = 'lower'))\n",
    "\n",
    "plt.show()"
   ]
  },
  {
   "cell_type": "markdown",
   "metadata": {},
   "source": [
    "As stated above, the gradient does not depend on the phase parameter $v_2$. "
   ]
  },
  {
   "cell_type": "markdown",
   "metadata": {},
   "source": [
    "### Optimization"
   ]
  },
  {
   "cell_type": "markdown",
   "metadata": {},
   "source": [
    "We choose a simple Gradient Descent Optimizer with a step size of 0.1."
   ]
  },
  {
   "cell_type": "code",
   "execution_count": 7,
   "metadata": {},
   "outputs": [],
   "source": [
    "gd = GradientDescentOptimizer(stepsize=0.1)"
   ]
  },
  {
   "cell_type": "markdown",
   "metadata": {},
   "source": [
    "The initial values of the variabels are set to near-zero. This corresponds to an identity gate, in other words, the circuit leaves the photon in the first mode. *Note that at zero exactly the gradient vanishes and the optimization algorithm will not descent from the maximum.*"
   ]
  },
  {
   "cell_type": "code",
   "execution_count": 8,
   "metadata": {},
   "outputs": [],
   "source": [
    "vars_init = np.array([0.01, -0.5])"
   ]
  },
  {
   "cell_type": "markdown",
   "metadata": {},
   "source": [
    "We optimize the weights for 100 steps."
   ]
  },
  {
   "cell_type": "code",
   "execution_count": 9,
   "metadata": {},
   "outputs": [
    {
     "name": "stdout",
     "output_type": "stream",
     "text": [
      "Cost after step   0: 0.9998560 | Variables [0.0119999, -0.5000000]\n",
      "Cost after step  10: 0.9945046 | Variables [0.0741993, -0.5000000]\n",
      "Cost after step  20: 0.8206168 | Variables [0.4373458, -0.5000000]\n",
      "Cost after step  30: 0.0723227 | Variables [1.2985156, -0.5000000]\n",
      "Cost after step  40: 0.0009153 | Variables [1.5405375, -0.5000000]\n",
      "Cost after step  50: 0.0000106 | Variables [1.5675459, -0.5000000]\n",
      "Cost after step  60: 0.0000001 | Variables [1.5704473, -0.5000000]\n",
      "Cost after step  70: 0.0000000 | Variables [1.5707589, -0.5000000]\n",
      "Cost after step  80: 0.0000000 | Variables [1.5707923, -0.5000000]\n",
      "Cost after step  90: 0.0000000 | Variables [1.5707959, -0.5000000]\n"
     ]
    }
   ],
   "source": [
    "vars = vars_init\n",
    "vars_gd = []\n",
    "\n",
    "for iteration in range(100):\n",
    "    vars = gd.step(objective, vars)\n",
    "    vars_gd.append(vars)\n",
    "    \n",
    "    if iteration % 10 == 0:\n",
    "        print('Cost after step {:3d}: {:0.7f} | Variables [{:0.7f}, {:0.7f}]'\n",
    "              ''.format(iteration, objective(vars), vars[0], vars[1]))"
   ]
  },
  {
   "cell_type": "markdown",
   "metadata": {},
   "source": [
    "Starting at a different offset, we train the MomentumOptimizer, which improves on gradient descent by making an update dependent on the previous gradient."
   ]
  },
  {
   "cell_type": "code",
   "execution_count": 10,
   "metadata": {},
   "outputs": [
    {
     "name": "stdout",
     "output_type": "stream",
     "text": [
      "Cost after step   0: 0.9998560 | Variables [0.0119999, 0.5000000]\n",
      "Cost after step  10: 0.9657205 | Variables [0.1862217, 0.5000000]\n",
      "Cost after step  20: 0.0055535 | Variables [1.4962052, 0.5000000]\n",
      "Cost after step  30: 0.0000064 | Variables [1.5682634, 0.5000000]\n",
      "Cost after step  40: 0.0000000 | Variables [1.5709673, 0.5000000]\n",
      "Cost after step  50: 0.0000000 | Variables [1.5707922, 0.5000000]\n",
      "Cost after step  60: 0.0000000 | Variables [1.5707963, 0.5000000]\n",
      "Cost after step  70: 0.0000000 | Variables [1.5707963, 0.5000000]\n",
      "Cost after step  80: 0.0000000 | Variables [1.5707963, 0.5000000]\n",
      "Cost after step  90: 0.0000000 | Variables [1.5707963, 0.5000000]\n"
     ]
    }
   ],
   "source": [
    "mm = MomentumOptimizer(stepsize=0.1, momentum=0.5)\n",
    "\n",
    "vars_init = np.array([0.01, 0.5])\n",
    "\n",
    "vars = vars_init\n",
    "vars_mm = []\n",
    "\n",
    "for iteration in range(100):\n",
    "    vars = mm.step(objective, vars)\n",
    "    vars_mm.append(vars)\n",
    "\n",
    "    if iteration % 10 == 0:\n",
    "        print('Cost after step {:3d}: {:0.7f} | Variables [{:0.7f}, {:0.7f}]'\n",
    "              ''.format(iteration, objective(vars), vars[0], vars[1]))"
   ]
  },
  {
   "cell_type": "code",
   "execution_count": 11,
   "metadata": {},
   "outputs": [
    {
     "data": {
      "image/png": "[encoded data removed]",
      "text/plain": [
       "<Figure size 432x288 with 1 Axes>"
      ]
     },
     "metadata": {},
     "output_type": "display_data"
    }
   ],
   "source": [
    "fig = plt.figure(figsize = (6, 4))\n",
    "ax = fig.gca(projection='3d')\n",
    "\n",
    "X = np.arange(-3.1, 1.6, 0.2)\n",
    "Y = np.arange(-1., 1.25, 0.25)\n",
    "\n",
    "xx, yy = np.meshgrid(X, Y)\n",
    "Z = np.array([[objective([x, y]) for x in X] for y in Y]).reshape(len(Y), len(X))\n",
    "surf = ax.plot_surface(xx, yy, Z, cmap=cm.coolwarm, antialiased=False)\n",
    "\n",
    "path_z = [objective(vars)+1e-8 for vars in vars_gd]\n",
    "path_x = [vars[0] for vars in vars_gd]\n",
    "path_y = [vars[1] for vars in vars_gd]\n",
    "ax.plot(path_x, path_y, path_z, c='green', marker='.', label=\"graddesc\")\n",
    "\n",
    "path_z = [objective(vars)+1e-8 for vars in vars_mm]\n",
    "path_x = [vars[0] for vars in vars_mm]\n",
    "path_y = [vars[1] for vars in vars_mm]\n",
    "ax.plot(path_x, path_y, path_z, c='purple', marker='.', label=\"momentum\")\n",
    "\n",
    "ax.set_xlabel(\"v1\")\n",
    "ax.set_ylabel(\"v2\")\n",
    "ax.zaxis.set_major_locator(MaxNLocator(nbins = 5, prune = 'lower'))\n",
    "ax.yaxis.set_major_locator(MaxNLocator(nbins = 4, prune = 'lower'))\n",
    "\n",
    "plt.legend()\n",
    "plt.show()"
   ]
  }
 ],
 "metadata": {
  "kernelspec": {
   "display_name": "Python 3",
   "language": "python",
   "name": "python3"
  },
  "language_info": {
   "codemirror_mode": {
    "name": "ipython",
    "version": 3
   },
   "file_extension": ".py",
   "mimetype": "text/x-python",
   "name": "python",
   "nbconvert_exporter": "python",
   "pygments_lexer": "ipython3",
   "version": "3.6.6"
  }
 },
 "nbformat": 4,
 "nbformat_minor": 2
}
